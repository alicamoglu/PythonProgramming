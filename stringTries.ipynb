{
 "cells": [
  {
   "cell_type": "code",
   "execution_count": 3,
   "metadata": {},
   "outputs": [
    {
     "data": {
      "text/plain": [
       "['__add__',\n",
       " '__class__',\n",
       " '__class_getitem__',\n",
       " '__contains__',\n",
       " '__delattr__',\n",
       " '__delitem__',\n",
       " '__dir__',\n",
       " '__doc__',\n",
       " '__eq__',\n",
       " '__format__',\n",
       " '__ge__',\n",
       " '__getattribute__',\n",
       " '__getitem__',\n",
       " '__getstate__',\n",
       " '__gt__',\n",
       " '__hash__',\n",
       " '__iadd__',\n",
       " '__imul__',\n",
       " '__init__',\n",
       " '__init_subclass__',\n",
       " '__iter__',\n",
       " '__le__',\n",
       " '__len__',\n",
       " '__lt__',\n",
       " '__mul__',\n",
       " '__ne__',\n",
       " '__new__',\n",
       " '__reduce__',\n",
       " '__reduce_ex__',\n",
       " '__repr__',\n",
       " '__reversed__',\n",
       " '__rmul__',\n",
       " '__setattr__',\n",
       " '__setitem__',\n",
       " '__sizeof__',\n",
       " '__str__',\n",
       " '__subclasshook__',\n",
       " 'append',\n",
       " 'clear',\n",
       " 'copy',\n",
       " 'count',\n",
       " 'extend',\n",
       " 'index',\n",
       " 'insert',\n",
       " 'pop',\n",
       " 'remove',\n",
       " 'reverse',\n",
       " 'sort']"
      ]
     },
     "execution_count": 3,
     "metadata": {},
     "output_type": "execute_result"
    }
   ],
   "source": [
    "dir(list)      # \"print\"siz liste olarak yazıyor"
   ]
  },
  {
   "cell_type": "code",
   "execution_count": 2,
   "metadata": {},
   "outputs": [
    {
     "data": {
      "text/plain": [
       "['__add__',\n",
       " '__class__',\n",
       " '__contains__',\n",
       " '__delattr__',\n",
       " '__dir__',\n",
       " '__doc__',\n",
       " '__eq__',\n",
       " '__format__',\n",
       " '__ge__',\n",
       " '__getattribute__',\n",
       " '__getitem__',\n",
       " '__getnewargs__',\n",
       " '__getstate__',\n",
       " '__gt__',\n",
       " '__hash__',\n",
       " '__init__',\n",
       " '__init_subclass__',\n",
       " '__iter__',\n",
       " '__le__',\n",
       " '__len__',\n",
       " '__lt__',\n",
       " '__mod__',\n",
       " '__mul__',\n",
       " '__ne__',\n",
       " '__new__',\n",
       " '__reduce__',\n",
       " '__reduce_ex__',\n",
       " '__repr__',\n",
       " '__rmod__',\n",
       " '__rmul__',\n",
       " '__setattr__',\n",
       " '__sizeof__',\n",
       " '__str__',\n",
       " '__subclasshook__',\n",
       " 'capitalize',\n",
       " 'casefold',\n",
       " 'center',\n",
       " 'count',\n",
       " 'encode',\n",
       " 'endswith',\n",
       " 'expandtabs',\n",
       " 'find',\n",
       " 'format',\n",
       " 'format_map',\n",
       " 'index',\n",
       " 'isalnum',\n",
       " 'isalpha',\n",
       " 'isascii',\n",
       " 'isdecimal',\n",
       " 'isdigit',\n",
       " 'isidentifier',\n",
       " 'islower',\n",
       " 'isnumeric',\n",
       " 'isprintable',\n",
       " 'isspace',\n",
       " 'istitle',\n",
       " 'isupper',\n",
       " 'join',\n",
       " 'ljust',\n",
       " 'lower',\n",
       " 'lstrip',\n",
       " 'maketrans',\n",
       " 'partition',\n",
       " 'removeprefix',\n",
       " 'removesuffix',\n",
       " 'replace',\n",
       " 'rfind',\n",
       " 'rindex',\n",
       " 'rjust',\n",
       " 'rpartition',\n",
       " 'rsplit',\n",
       " 'rstrip',\n",
       " 'split',\n",
       " 'splitlines',\n",
       " 'startswith',\n",
       " 'strip',\n",
       " 'swapcase',\n",
       " 'title',\n",
       " 'translate',\n",
       " 'upper',\n",
       " 'zfill']"
      ]
     },
     "execution_count": 2,
     "metadata": {},
     "output_type": "execute_result"
    }
   ],
   "source": [
    "dir(str)"
   ]
  },
  {
   "cell_type": "code",
   "execution_count": 9,
   "metadata": {},
   "outputs": [
    {
     "name": "stdout",
     "output_type": "stream",
     "text": [
      "ä\n"
     ]
    },
    {
     "data": {
      "text/plain": [
       "'ss'"
      ]
     },
     "execution_count": 9,
     "metadata": {},
     "output_type": "execute_result"
    }
   ],
   "source": [
    "print(\"ä\".casefold())\n",
    "\"ß\".casefold()             #scharf s yi normale çevirir\n",
    "# print(\"ß\".casefold)"
   ]
  },
  {
   "cell_type": "code",
   "execution_count": 8,
   "metadata": {},
   "outputs": [
    {
     "data": {
      "text/plain": [
       "<function str.casefold()>"
      ]
     },
     "execution_count": 8,
     "metadata": {},
     "output_type": "execute_result"
    }
   ],
   "source": [
    "\"ß\".casefold    # kayıt yeri gösterir"
   ]
  },
  {
   "cell_type": "code",
   "execution_count": 10,
   "metadata": {},
   "outputs": [
    {
     "name": "stdout",
     "output_type": "stream",
     "text": [
      "  a  \n",
      "                      a                      \n"
     ]
    }
   ],
   "source": [
    "print(\"a\".center(5))\n",
    "print(\"a\".center(45))"
   ]
  },
  {
   "cell_type": "code",
   "execution_count": 12,
   "metadata": {},
   "outputs": [
    {
     "name": "stdout",
     "output_type": "stream",
     "text": [
      "  a                        a                      \n",
      "  a                         a                      \n"
     ]
    }
   ],
   "source": [
    "print(\"a\".center(5), end=\"\")\n",
    "print(\"a\".center(45))\n",
    "print(\"a\".center(5),\"a\".center(45))"
   ]
  },
  {
   "cell_type": "code",
   "execution_count": 13,
   "metadata": {},
   "outputs": [
    {
     "name": "stdout",
     "output_type": "stream",
     "text": [
      "--------------*---------------\n",
      "--------------**--------------\n",
      "-------------***--------------\n",
      "-------------****-------------\n",
      "------------*****-------------\n",
      "------------******------------\n",
      "-----------*******------------\n",
      "-----------********-----------\n",
      "----------*********-----------\n",
      "----------**********----------\n",
      "---------***********----------\n",
      "---------************---------\n",
      "--------*************---------\n",
      "--------**************--------\n",
      "-------***************--------\n",
      "-------****************-------\n",
      "------*****************-------\n",
      "------******************------\n",
      "-----*******************------\n",
      "-----********************-----\n",
      "----*********************-----\n",
      "----**********************----\n",
      "---***********************----\n",
      "---************************---\n",
      "--*************************---\n",
      "--**************************--\n",
      "-***************************--\n",
      "-****************************-\n",
      "*****************************-\n"
     ]
    }
   ],
   "source": [
    "for i in range(1,30):\n",
    "    print((i*\"*\").center(30,\"-\"))"
   ]
  },
  {
   "cell_type": "code",
   "execution_count": 14,
   "metadata": {},
   "outputs": [
    {
     "name": "stdout",
     "output_type": "stream",
     "text": [
      "--------------+---------------\n",
      "--------------++--------------\n",
      "-------------+++--------------\n",
      "-------------++++-------------\n",
      "------------+++++-------------\n",
      "------------++++++------------\n",
      "-----------+++++++------------\n",
      "-----------++++++++-----------\n",
      "----------+++++++++-----------\n",
      "----------++++++++++----------\n",
      "---------+++++++++++----------\n",
      "---------++++++++++++---------\n",
      "--------+++++++++++++---------\n",
      "--------++++++++++++++--------\n",
      "-------+++++++++++++++--------\n",
      "-------++++++++++++++++-------\n",
      "------+++++++++++++++++-------\n",
      "------++++++++++++++++++------\n",
      "-----+++++++++++++++++++------\n",
      "-----++++++++++++++++++++-----\n",
      "----+++++++++++++++++++++-----\n",
      "----++++++++++++++++++++++----\n",
      "---+++++++++++++++++++++++----\n",
      "---++++++++++++++++++++++++---\n",
      "--+++++++++++++++++++++++++---\n",
      "--++++++++++++++++++++++++++--\n",
      "-+++++++++++++++++++++++++++--\n",
      "-++++++++++++++++++++++++++++-\n",
      "+++++++++++++++++++++++++++++-\n"
     ]
    }
   ],
   "source": [
    "for i in range(1,30):\n",
    "    print((i*\"+\").center(30,\"-\"))"
   ]
  },
  {
   "cell_type": "code",
   "execution_count": 15,
   "metadata": {},
   "outputs": [
    {
     "name": "stdout",
     "output_type": "stream",
     "text": [
      "              *               \n",
      "              **              \n",
      "             ***              \n",
      "             ****             \n",
      "            *****             \n",
      "            ******            \n",
      "           *******            \n",
      "           ********           \n",
      "          *********           \n",
      "          **********          \n",
      "         ***********          \n",
      "         ************         \n",
      "        *************         \n",
      "        **************        \n",
      "       ***************        \n",
      "       ****************       \n",
      "      *****************       \n",
      "      ******************      \n",
      "     *******************      \n",
      "     ********************     \n",
      "    *********************     \n",
      "    **********************    \n",
      "   ***********************    \n",
      "   ************************   \n",
      "  *************************   \n",
      "  **************************  \n",
      " ***************************  \n",
      " **************************** \n",
      "***************************** \n"
     ]
    }
   ],
   "source": [
    "for i in range(1,30):\n",
    "    print((i*\"*\").center(30))"
   ]
  },
  {
   "cell_type": "code",
   "execution_count": 16,
   "metadata": {},
   "outputs": [
    {
     "name": "stdout",
     "output_type": "stream",
     "text": [
      "********************************\n",
      " ****************************** \n",
      "  ****************************  \n",
      "   **************************   \n",
      "    ************************    \n",
      "     **********************     \n",
      "      ********************      \n",
      "       ******************       \n",
      "        ****************        \n",
      "         **************         \n",
      "          ************          \n",
      "           **********           \n",
      "            ********            \n",
      "             ******             \n",
      "              ****              \n",
      "               **               \n"
     ]
    }
   ],
   "source": [
    "for i in range(32,1,-2):         #ters piramit\n",
    "    print((i*\"*\").center(32))"
   ]
  },
  {
   "cell_type": "code",
   "execution_count": 21,
   "metadata": {},
   "outputs": [
    {
     "name": "stdout",
     "output_type": "stream",
     "text": [
      "('c', 'u', 'rriculum')\n",
      "b'curriculum'\n"
     ]
    }
   ],
   "source": [
    "    \n",
    "c = \"curriculum\"          # bir harften bölme onu feda etmeden böler\n",
    "print(c.partition(\"u\"))\n",
    "print(c.encode())        "
   ]
  },
  {
   "cell_type": "code",
   "execution_count": 18,
   "metadata": {},
   "outputs": [
    {
     "name": "stdout",
     "output_type": "stream",
     "text": [
      "('curricul', 'u', 'm')\n"
     ]
    }
   ],
   "source": [
    "print(c.rpartition(\"u\"))\n"
   ]
  },
  {
   "cell_type": "code",
   "execution_count": 20,
   "metadata": {},
   "outputs": [
    {
     "name": "stdout",
     "output_type": "stream",
     "text": [
      "('', 'i', 'stihza')\n",
      "('ist', 'i', 'hza')\n"
     ]
    }
   ],
   "source": [
    "i = \"istihza\"\n",
    "print(i.partition(\"i\"))   \n",
    "print(i.rpartition(\"i\"))\n",
    "# ('', 'i', 'stihza')\n",
    "#partition() metodu karakter dizisini ilk ‘i’ harfinden böldü. Şimdi aynı işlemi rpartition() metodu ile yapalım:"
   ]
  },
  {
   "cell_type": "code",
   "execution_count": 22,
   "metadata": {},
   "outputs": [
    {
     "name": "stdout",
     "output_type": "stream",
     "text": [
      "b'syllabus'\n"
     ]
    }
   ],
   "source": [
    "print(\"syllabus\".encode())"
   ]
  },
  {
   "cell_type": "code",
   "execution_count": 11,
   "metadata": {},
   "outputs": [
    {
     "data": {
      "text/plain": [
       "3"
      ]
     },
     "execution_count": 11,
     "metadata": {},
     "output_type": "execute_result"
    }
   ],
   "source": [
    "string1 = \"acabbccacaggcacacaleamle\"\n",
    "\n",
    "\n",
    "x = string1.count(\"aca\")\n",
    "\n",
    "x"
   ]
  },
  {
   "cell_type": "code",
   "execution_count": 10,
   "metadata": {},
   "outputs": [
    {
     "name": "stdout",
     "output_type": "stream",
     "text": [
      "2\n"
     ]
    }
   ],
   "source": [
    "string1 = \"acaca\"\n",
    "sub = \"aca\"\n",
    "i = len(sub)\n",
    "j = 0\n",
    "\n",
    "say = 0\n",
    "\n",
    "aa = string1[j:i]\n",
    "\n",
    "\n",
    "while i<= len(string1):\n",
    "    if string1[j:i] == sub:\n",
    "        say += 1\n",
    "    j += 1\n",
    "    i += 1\n",
    "\n",
    "\n",
    "print(say)"
   ]
  },
  {
   "cell_type": "code",
   "execution_count": 4,
   "metadata": {},
   "outputs": [
    {
     "name": "stdout",
     "output_type": "stream",
     "text": [
      "feCdCm\n"
     ]
    }
   ],
   "source": [
    "string = \"freeCodeCamp\"\n",
    "print(string[::2])\n"
   ]
  }
 ],
 "metadata": {
  "kernelspec": {
   "display_name": "Python 3",
   "language": "python",
   "name": "python3"
  },
  "language_info": {
   "codemirror_mode": {
    "name": "ipython",
    "version": 3
   },
   "file_extension": ".py",
   "mimetype": "text/x-python",
   "name": "python",
   "nbconvert_exporter": "python",
   "pygments_lexer": "ipython3",
   "version": "3.7.7"
  },
  "orig_nbformat": 4,
  "vscode": {
   "interpreter": {
    "hash": "6f5583cf1d9466b5c27e75c89cc6b383bed5736d6b16c51c8074d8690011a952"
   }
  }
 },
 "nbformat": 4,
 "nbformat_minor": 2
}
